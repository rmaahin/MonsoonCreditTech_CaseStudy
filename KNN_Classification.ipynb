{
 "cells": [
  {
   "cell_type": "code",
   "execution_count": 8,
   "metadata": {},
   "outputs": [],
   "source": [
    "import os\n",
    "import numpy as np\n",
    "import pandas as pd\n",
    "import seaborn as sns\n",
    "import matplotlib.pyplot as plt\n",
    "\n",
    "from sklearn import neighbors\n",
    "from sklearn.metrics import roc_auc_score, auc, roc_curve\n",
    "from sklearn.preprocessing import StandardScaler\n",
    "from sklearn.neighbors import KNeighborsClassifier\n",
    "from sklearn.model_selection import train_test_split"
   ]
  },
  {
   "cell_type": "markdown",
   "metadata": {},
   "source": [
    "## KNN Classifier with outliers removed"
   ]
  },
  {
   "cell_type": "code",
   "execution_count": 2,
   "metadata": {},
   "outputs": [
    {
     "data": {
      "text/html": [
       "<div>\n",
       "<style scoped>\n",
       "    .dataframe tbody tr th:only-of-type {\n",
       "        vertical-align: middle;\n",
       "    }\n",
       "\n",
       "    .dataframe tbody tr th {\n",
       "        vertical-align: top;\n",
       "    }\n",
       "\n",
       "    .dataframe thead th {\n",
       "        text-align: right;\n",
       "    }\n",
       "</style>\n",
       "<table border=\"1\" class=\"dataframe\">\n",
       "  <thead>\n",
       "    <tr style=\"text-align: right;\">\n",
       "      <th></th>\n",
       "      <th>Unique_ID</th>\n",
       "      <th>C1</th>\n",
       "      <th>C2</th>\n",
       "      <th>C3</th>\n",
       "      <th>C4</th>\n",
       "      <th>C5</th>\n",
       "      <th>C6</th>\n",
       "      <th>C7</th>\n",
       "      <th>C8</th>\n",
       "      <th>N1</th>\n",
       "      <th>...</th>\n",
       "      <th>N19</th>\n",
       "      <th>N20</th>\n",
       "      <th>N21</th>\n",
       "      <th>N22</th>\n",
       "      <th>N23</th>\n",
       "      <th>N24</th>\n",
       "      <th>N33</th>\n",
       "      <th>N34</th>\n",
       "      <th>N35</th>\n",
       "      <th>label</th>\n",
       "    </tr>\n",
       "  </thead>\n",
       "  <tbody>\n",
       "    <tr>\n",
       "      <th>0</th>\n",
       "      <td>Candidate_48134</td>\n",
       "      <td>1</td>\n",
       "      <td>4</td>\n",
       "      <td>2</td>\n",
       "      <td>66</td>\n",
       "      <td>2</td>\n",
       "      <td>False</td>\n",
       "      <td>1</td>\n",
       "      <td>True</td>\n",
       "      <td>11.05</td>\n",
       "      <td>...</td>\n",
       "      <td>25856.0</td>\n",
       "      <td>17.0</td>\n",
       "      <td>0.88</td>\n",
       "      <td>1.0</td>\n",
       "      <td>40.0</td>\n",
       "      <td>10833.333330</td>\n",
       "      <td>160.0</td>\n",
       "      <td>262.10</td>\n",
       "      <td>17.0</td>\n",
       "      <td>0</td>\n",
       "    </tr>\n",
       "    <tr>\n",
       "      <th>1</th>\n",
       "      <td>Candidate_51717</td>\n",
       "      <td>1</td>\n",
       "      <td>0</td>\n",
       "      <td>19</td>\n",
       "      <td>2</td>\n",
       "      <td>0</td>\n",
       "      <td>False</td>\n",
       "      <td>0</td>\n",
       "      <td>True</td>\n",
       "      <td>29.00</td>\n",
       "      <td>...</td>\n",
       "      <td>11041.3</td>\n",
       "      <td>21.8</td>\n",
       "      <td>0.90</td>\n",
       "      <td>0.9</td>\n",
       "      <td>20.0</td>\n",
       "      <td>6250.000000</td>\n",
       "      <td>24.0</td>\n",
       "      <td>50.29</td>\n",
       "      <td>18.0</td>\n",
       "      <td>1</td>\n",
       "    </tr>\n",
       "    <tr>\n",
       "      <th>2</th>\n",
       "      <td>Candidate_26401</td>\n",
       "      <td>1</td>\n",
       "      <td>1</td>\n",
       "      <td>16</td>\n",
       "      <td>47</td>\n",
       "      <td>1</td>\n",
       "      <td>False</td>\n",
       "      <td>4</td>\n",
       "      <td>True</td>\n",
       "      <td>17.99</td>\n",
       "      <td>...</td>\n",
       "      <td>1006.0</td>\n",
       "      <td>6.0</td>\n",
       "      <td>1.00</td>\n",
       "      <td>0.0</td>\n",
       "      <td>26.0</td>\n",
       "      <td>2413.666667</td>\n",
       "      <td>70.0</td>\n",
       "      <td>126.52</td>\n",
       "      <td>27.0</td>\n",
       "      <td>0</td>\n",
       "    </tr>\n",
       "    <tr>\n",
       "      <th>3</th>\n",
       "      <td>Candidate_34872</td>\n",
       "      <td>1</td>\n",
       "      <td>1</td>\n",
       "      <td>13</td>\n",
       "      <td>1</td>\n",
       "      <td>1</td>\n",
       "      <td>True</td>\n",
       "      <td>6</td>\n",
       "      <td>True</td>\n",
       "      <td>27.50</td>\n",
       "      <td>...</td>\n",
       "      <td>3398.0</td>\n",
       "      <td>31.0</td>\n",
       "      <td>0.96</td>\n",
       "      <td>0.0</td>\n",
       "      <td>44.0</td>\n",
       "      <td>7666.666667</td>\n",
       "      <td>100.0</td>\n",
       "      <td>205.47</td>\n",
       "      <td>21.0</td>\n",
       "      <td>0</td>\n",
       "    </tr>\n",
       "    <tr>\n",
       "      <th>4</th>\n",
       "      <td>Candidate_29660</td>\n",
       "      <td>1</td>\n",
       "      <td>0</td>\n",
       "      <td>30</td>\n",
       "      <td>13</td>\n",
       "      <td>2</td>\n",
       "      <td>False</td>\n",
       "      <td>2</td>\n",
       "      <td>True</td>\n",
       "      <td>13.50</td>\n",
       "      <td>...</td>\n",
       "      <td>4110.0</td>\n",
       "      <td>11.0</td>\n",
       "      <td>0.90</td>\n",
       "      <td>2.0</td>\n",
       "      <td>48.0</td>\n",
       "      <td>4250.000000</td>\n",
       "      <td>150.0</td>\n",
       "      <td>254.51</td>\n",
       "      <td>13.0</td>\n",
       "      <td>0</td>\n",
       "    </tr>\n",
       "  </tbody>\n",
       "</table>\n",
       "<p>5 rows × 37 columns</p>\n",
       "</div>"
      ],
      "text/plain": [
       "         Unique_ID  C1  C2  C3  C4  C5     C6  C7    C8     N1  ...      N19  \\\n",
       "0  Candidate_48134   1   4   2  66   2  False   1  True  11.05  ...  25856.0   \n",
       "1  Candidate_51717   1   0  19   2   0  False   0  True  29.00  ...  11041.3   \n",
       "2  Candidate_26401   1   1  16  47   1  False   4  True  17.99  ...   1006.0   \n",
       "3  Candidate_34872   1   1  13   1   1   True   6  True  27.50  ...   3398.0   \n",
       "4  Candidate_29660   1   0  30  13   2  False   2  True  13.50  ...   4110.0   \n",
       "\n",
       "    N20   N21  N22   N23           N24    N33     N34   N35  label  \n",
       "0  17.0  0.88  1.0  40.0  10833.333330  160.0  262.10  17.0      0  \n",
       "1  21.8  0.90  0.9  20.0   6250.000000   24.0   50.29  18.0      1  \n",
       "2   6.0  1.00  0.0  26.0   2413.666667   70.0  126.52  27.0      0  \n",
       "3  31.0  0.96  0.0  44.0   7666.666667  100.0  205.47  21.0      0  \n",
       "4  11.0  0.90  2.0  48.0   4250.000000  150.0  254.51  13.0      0  \n",
       "\n",
       "[5 rows x 37 columns]"
      ]
     },
     "execution_count": 2,
     "metadata": {},
     "output_type": "execute_result"
    }
   ],
   "source": [
    "df = pd.read_csv('without_outliers_IF.csv')\n",
    "df.head()"
   ]
  },
  {
   "cell_type": "code",
   "execution_count": 3,
   "metadata": {},
   "outputs": [],
   "source": [
    "X = df.drop(['Unique_ID', 'label'], axis=1)\n",
    "y = df['label']"
   ]
  },
  {
   "cell_type": "code",
   "execution_count": 4,
   "metadata": {},
   "outputs": [],
   "source": [
    "X_train, X_test, y_train, y_test = train_test_split(X, y, test_size = 0.20, random_state = 0)"
   ]
  },
  {
   "cell_type": "code",
   "execution_count": 5,
   "metadata": {},
   "outputs": [],
   "source": [
    "sc = StandardScaler()\n",
    "X_train = sc.fit_transform(X_train)\n",
    "X_test = sc.transform(X_test)"
   ]
  },
  {
   "cell_type": "code",
   "execution_count": 6,
   "metadata": {},
   "outputs": [
    {
     "data": {
      "text/plain": [
       "((24529, 35), (6133, 35))"
      ]
     },
     "execution_count": 6,
     "metadata": {},
     "output_type": "execute_result"
    }
   ],
   "source": [
    "X_train.shape, X_test.shape"
   ]
  },
  {
   "cell_type": "code",
   "execution_count": 9,
   "metadata": {},
   "outputs": [
    {
     "name": "stdout",
     "output_type": "stream",
     "text": [
      "AUC-ROC for k=1 is: 0.600405273796742\n",
      "AUC-ROC for k=2 is: 0.5621441228440992\n",
      "AUC-ROC for k=3 is: 0.6079921239713839\n",
      "AUC-ROC for k=4 is: 0.571018621395713\n",
      "AUC-ROC for k=5 is: 0.5983836433989627\n",
      "AUC-ROC for k=6 is: 0.5749651152785729\n",
      "AUC-ROC for k=7 is: 0.5993405883577931\n",
      "AUC-ROC for k=8 is: 0.5773195689881997\n",
      "AUC-ROC for k=9 is: 0.5883951407048272\n",
      "AUC-ROC for k=10 is: 0.5690584055655938\n",
      "AUC-ROC for k=11 is: 0.5899005769851869\n",
      "AUC-ROC for k=12 is: 0.5772377036812578\n",
      "AUC-ROC for k=13 is: 0.5908527833580862\n",
      "AUC-ROC for k=14 is: 0.575506062272501\n",
      "AUC-ROC for k=15 is: 0.5892990883210067\n",
      "AUC-ROC for k=16 is: 0.5762732143948265\n",
      "AUC-ROC for k=17 is: 0.5891618563784484\n",
      "AUC-ROC for k=18 is: 0.5777474134179296\n",
      "AUC-ROC for k=19 is: 0.587196901962398\n",
      "AUC-ROC for k=20 is: 0.5787190105832576\n",
      "AUC-ROC for k=21 is: 0.5835556727732075\n",
      "AUC-ROC for k=22 is: 0.5779854650111544\n",
      "AUC-ROC for k=23 is: 0.5851765809107312\n",
      "AUC-ROC for k=24 is: 0.5743418665289983\n",
      "AUC-ROC for k=25 is: 0.5832092572017153\n",
      "AUC-ROC for k=26 is: 0.5733461399853104\n",
      "AUC-ROC for k=27 is: 0.5809172780066015\n",
      "AUC-ROC for k=28 is: 0.5711118967187786\n",
      "AUC-ROC for k=29 is: 0.5757176151944005\n",
      "AUC-ROC for k=30 is: 0.5714654201691676\n"
     ]
    }
   ],
   "source": [
    "iterations = 30\n",
    "auc_list = []\n",
    "for i in range(1, iterations+1):\n",
    "    classifier = KNeighborsClassifier(n_neighbors = i, metric = 'minkowski', p = 1)\n",
    "    classifier.fit(X_train, y_train)\n",
    "    y_pred = classifier.predict(X_test)\n",
    "    fpr, tpr, thresholds = roc_curve(y_test, y_pred, pos_label=1)\n",
    "    auc_score = auc(fpr, tpr)\n",
    "    auc_list.append(auc_score)\n",
    "    print(f'AUC-ROC for k={i} is: {auc_score}')"
   ]
  },
  {
   "cell_type": "code",
   "execution_count": 10,
   "metadata": {},
   "outputs": [
    {
     "data": {
      "text/plain": [
       "<AxesSubplot:>"
      ]
     },
     "execution_count": 10,
     "metadata": {},
     "output_type": "execute_result"
    },
    {
     "data": {
      "image/png": "[encoded data removed]",
      "text/plain": [
       "<Figure size 576x360 with 1 Axes>"
      ]
     },
     "metadata": {},
     "output_type": "display_data"
    }
   ],
   "source": [
    "sns.set(font_scale=1.3)\n",
    "\n",
    "curve = pd.DataFrame(auc_list)\n",
    "curve.plot(figsize=(8,5))"
   ]
  },
  {
   "cell_type": "markdown",
   "metadata": {},
   "source": [
    "## KNN Classifier with Outliers"
   ]
  },
  {
   "cell_type": "code",
   "execution_count": 11,
   "metadata": {},
   "outputs": [
    {
     "data": {
      "text/html": [
       "<div>\n",
       "<style scoped>\n",
       "    .dataframe tbody tr th:only-of-type {\n",
       "        vertical-align: middle;\n",
       "    }\n",
       "\n",
       "    .dataframe tbody tr th {\n",
       "        vertical-align: top;\n",
       "    }\n",
       "\n",
       "    .dataframe thead th {\n",
       "        text-align: right;\n",
       "    }\n",
       "</style>\n",
       "<table border=\"1\" class=\"dataframe\">\n",
       "  <thead>\n",
       "    <tr style=\"text-align: right;\">\n",
       "      <th></th>\n",
       "      <th>Unique_ID</th>\n",
       "      <th>C1</th>\n",
       "      <th>C2</th>\n",
       "      <th>C3</th>\n",
       "      <th>C4</th>\n",
       "      <th>C5</th>\n",
       "      <th>C6</th>\n",
       "      <th>C7</th>\n",
       "      <th>C8</th>\n",
       "      <th>N1</th>\n",
       "      <th>...</th>\n",
       "      <th>N19</th>\n",
       "      <th>N20</th>\n",
       "      <th>N21</th>\n",
       "      <th>N22</th>\n",
       "      <th>N23</th>\n",
       "      <th>N24</th>\n",
       "      <th>N33</th>\n",
       "      <th>N34</th>\n",
       "      <th>N35</th>\n",
       "      <th>Dependent_Variable</th>\n",
       "    </tr>\n",
       "  </thead>\n",
       "  <tbody>\n",
       "    <tr>\n",
       "      <th>0</th>\n",
       "      <td>Candidate_48134</td>\n",
       "      <td>1</td>\n",
       "      <td>4</td>\n",
       "      <td>2</td>\n",
       "      <td>66</td>\n",
       "      <td>2</td>\n",
       "      <td>False</td>\n",
       "      <td>1</td>\n",
       "      <td>True</td>\n",
       "      <td>11.05</td>\n",
       "      <td>...</td>\n",
       "      <td>25856.0</td>\n",
       "      <td>17.0</td>\n",
       "      <td>0.88</td>\n",
       "      <td>1.0</td>\n",
       "      <td>40.0</td>\n",
       "      <td>10833.333330</td>\n",
       "      <td>160.0</td>\n",
       "      <td>262.10</td>\n",
       "      <td>17.0</td>\n",
       "      <td>0</td>\n",
       "    </tr>\n",
       "    <tr>\n",
       "      <th>1</th>\n",
       "      <td>Candidate_51717</td>\n",
       "      <td>1</td>\n",
       "      <td>0</td>\n",
       "      <td>19</td>\n",
       "      <td>2</td>\n",
       "      <td>0</td>\n",
       "      <td>False</td>\n",
       "      <td>0</td>\n",
       "      <td>True</td>\n",
       "      <td>29.00</td>\n",
       "      <td>...</td>\n",
       "      <td>11041.3</td>\n",
       "      <td>21.8</td>\n",
       "      <td>0.90</td>\n",
       "      <td>0.9</td>\n",
       "      <td>20.0</td>\n",
       "      <td>6250.000000</td>\n",
       "      <td>24.0</td>\n",
       "      <td>50.29</td>\n",
       "      <td>18.0</td>\n",
       "      <td>1</td>\n",
       "    </tr>\n",
       "    <tr>\n",
       "      <th>2</th>\n",
       "      <td>Candidate_26401</td>\n",
       "      <td>1</td>\n",
       "      <td>1</td>\n",
       "      <td>16</td>\n",
       "      <td>47</td>\n",
       "      <td>1</td>\n",
       "      <td>False</td>\n",
       "      <td>4</td>\n",
       "      <td>True</td>\n",
       "      <td>17.99</td>\n",
       "      <td>...</td>\n",
       "      <td>1006.0</td>\n",
       "      <td>6.0</td>\n",
       "      <td>1.00</td>\n",
       "      <td>0.0</td>\n",
       "      <td>26.0</td>\n",
       "      <td>2413.666667</td>\n",
       "      <td>70.0</td>\n",
       "      <td>126.52</td>\n",
       "      <td>27.0</td>\n",
       "      <td>0</td>\n",
       "    </tr>\n",
       "    <tr>\n",
       "      <th>3</th>\n",
       "      <td>Candidate_34872</td>\n",
       "      <td>1</td>\n",
       "      <td>1</td>\n",
       "      <td>13</td>\n",
       "      <td>1</td>\n",
       "      <td>1</td>\n",
       "      <td>True</td>\n",
       "      <td>6</td>\n",
       "      <td>True</td>\n",
       "      <td>27.50</td>\n",
       "      <td>...</td>\n",
       "      <td>3398.0</td>\n",
       "      <td>31.0</td>\n",
       "      <td>0.96</td>\n",
       "      <td>0.0</td>\n",
       "      <td>44.0</td>\n",
       "      <td>7666.666667</td>\n",
       "      <td>100.0</td>\n",
       "      <td>205.47</td>\n",
       "      <td>21.0</td>\n",
       "      <td>0</td>\n",
       "    </tr>\n",
       "    <tr>\n",
       "      <th>4</th>\n",
       "      <td>Candidate_29660</td>\n",
       "      <td>1</td>\n",
       "      <td>0</td>\n",
       "      <td>30</td>\n",
       "      <td>13</td>\n",
       "      <td>2</td>\n",
       "      <td>False</td>\n",
       "      <td>2</td>\n",
       "      <td>True</td>\n",
       "      <td>13.50</td>\n",
       "      <td>...</td>\n",
       "      <td>4110.0</td>\n",
       "      <td>11.0</td>\n",
       "      <td>0.90</td>\n",
       "      <td>2.0</td>\n",
       "      <td>48.0</td>\n",
       "      <td>4250.000000</td>\n",
       "      <td>150.0</td>\n",
       "      <td>254.51</td>\n",
       "      <td>13.0</td>\n",
       "      <td>0</td>\n",
       "    </tr>\n",
       "  </tbody>\n",
       "</table>\n",
       "<p>5 rows × 37 columns</p>\n",
       "</div>"
      ],
      "text/plain": [
       "         Unique_ID  C1  C2  C3  C4  C5     C6  C7    C8     N1  ...      N19  \\\n",
       "0  Candidate_48134   1   4   2  66   2  False   1  True  11.05  ...  25856.0   \n",
       "1  Candidate_51717   1   0  19   2   0  False   0  True  29.00  ...  11041.3   \n",
       "2  Candidate_26401   1   1  16  47   1  False   4  True  17.99  ...   1006.0   \n",
       "3  Candidate_34872   1   1  13   1   1   True   6  True  27.50  ...   3398.0   \n",
       "4  Candidate_29660   1   0  30  13   2  False   2  True  13.50  ...   4110.0   \n",
       "\n",
       "    N20   N21  N22   N23           N24    N33     N34   N35  \\\n",
       "0  17.0  0.88  1.0  40.0  10833.333330  160.0  262.10  17.0   \n",
       "1  21.8  0.90  0.9  20.0   6250.000000   24.0   50.29  18.0   \n",
       "2   6.0  1.00  0.0  26.0   2413.666667   70.0  126.52  27.0   \n",
       "3  31.0  0.96  0.0  44.0   7666.666667  100.0  205.47  21.0   \n",
       "4  11.0  0.90  2.0  48.0   4250.000000  150.0  254.51  13.0   \n",
       "\n",
       "   Dependent_Variable  \n",
       "0                   0  \n",
       "1                   1  \n",
       "2                   0  \n",
       "3                   0  \n",
       "4                   0  \n",
       "\n",
       "[5 rows x 37 columns]"
      ]
     },
     "execution_count": 11,
     "metadata": {},
     "output_type": "execute_result"
    }
   ],
   "source": [
    "dfo = pd.read_csv('preprocessed_data.csv')\n",
    "dfo.head()"
   ]
  },
  {
   "cell_type": "code",
   "execution_count": 12,
   "metadata": {},
   "outputs": [],
   "source": [
    "Xo = dfo.drop(['Unique_ID', 'Dependent_Variable'], axis=1)\n",
    "yo = dfo['Dependent_Variable']"
   ]
  },
  {
   "cell_type": "code",
   "execution_count": 13,
   "metadata": {},
   "outputs": [],
   "source": [
    "Xo_train, Xo_test, yo_train, yo_test = train_test_split(Xo, yo, test_size = 0.20, random_state = 0)"
   ]
  },
  {
   "cell_type": "code",
   "execution_count": 14,
   "metadata": {},
   "outputs": [],
   "source": [
    "sc = StandardScaler()\n",
    "Xo_train = sc.fit_transform(Xo_train)\n",
    "Xo_test = sc.transform(Xo_test)"
   ]
  },
  {
   "cell_type": "code",
   "execution_count": 15,
   "metadata": {},
   "outputs": [
    {
     "name": "stdout",
     "output_type": "stream",
     "text": [
      "AUC-ROC for k=1 is: 0.5963998766249855\n",
      "AUC-ROC for k=2 is: 0.5648994712740155\n",
      "AUC-ROC for k=3 is: 0.6053588915125744\n",
      "AUC-ROC for k=4 is: 0.5738768575777035\n",
      "AUC-ROC for k=5 is: 0.609158909378355\n",
      "AUC-ROC for k=6 is: 0.5840249581586784\n",
      "AUC-ROC for k=7 is: 0.6149125335194072\n",
      "AUC-ROC for k=8 is: 0.5860097452777877\n",
      "AUC-ROC for k=9 is: 0.6075557083697812\n",
      "AUC-ROC for k=10 is: 0.5899730833472383\n"
     ]
    }
   ],
   "source": [
    "iterations = 10\n",
    "auco_list = []\n",
    "for i in range(1, iterations+1):\n",
    "    classifier = KNeighborsClassifier(n_neighbors = i, metric = 'minkowski', p = 1)\n",
    "    classifier.fit(Xo_train, yo_train)\n",
    "    yo_pred = classifier.predict(Xo_test)\n",
    "    fpr, tpr, thresholds = roc_curve(yo_test, yo_pred, pos_label=1)\n",
    "    auc_score = auc(fpr, tpr)\n",
    "    auco_list.append(auc_score)\n",
    "    print(f'AUC-ROC for k={i} is: {auc_score}')"
   ]
  },
  {
   "cell_type": "code",
   "execution_count": 17,
   "metadata": {},
   "outputs": [
    {
     "data": {
      "text/plain": [
       "<AxesSubplot:>"
      ]
     },
     "execution_count": 17,
     "metadata": {},
     "output_type": "execute_result"
    },
    {
     "data": {
      "image/png": "[encoded data removed]",
      "text/plain": [
       "<Figure size 576x360 with 1 Axes>"
      ]
     },
     "metadata": {},
     "output_type": "display_data"
    }
   ],
   "source": [
    "sns.set(font_scale=1.3)\n",
    "\n",
    "curve = pd.DataFrame(auco_list)\n",
    "curve.plot(figsize=(8,5))"
   ]
  },
  {
   "cell_type": "code",
   "execution_count": null,
   "metadata": {},
   "outputs": [],
   "source": []
  }
 ],
 "metadata": {
  "kernelspec": {
   "display_name": "Python 3",
   "language": "python",
   "name": "python3"
  },
  "language_info": {
   "codemirror_mode": {
    "name": "ipython",
    "version": 3
   },
   "file_extension": ".py",
   "mimetype": "text/x-python",
   "name": "python",
   "nbconvert_exporter": "python",
   "pygments_lexer": "ipython3",
   "version": "3.8.12"
  }
 },
 "nbformat": 4,
 "nbformat_minor": 4
}
