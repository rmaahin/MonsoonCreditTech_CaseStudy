{
 "cells": [
  {
   "cell_type": "code",
   "execution_count": 1,
   "metadata": {},
   "outputs": [
    {
     "name": "stderr",
     "output_type": "stream",
     "text": [
      "C:\\Users\\Lenovo\\anaconda3\\envs\\monsoon\\lib\\site-packages\\xgboost\\compat.py:36: FutureWarning: pandas.Int64Index is deprecated and will be removed from pandas in a future version. Use pandas.Index with the appropriate dtype instead.\n",
      "  from pandas import MultiIndex, Int64Index\n"
     ]
    }
   ],
   "source": [
    "import pandas as pd\n",
    "import numpy as np\n",
    "import xgboost as xgb\n",
    "\n",
    "from sklearn.metrics import balanced_accuracy_score, roc_auc_score, make_scorer\n",
    "from sklearn.model_selection import train_test_split\n",
    "from sklearn.model_selection import GridSearchCV\n",
    "from sklearn.metrics import confusion_matrix\n",
    "from sklearn.metrics import plot_confusion_matrix\n",
    "from sklearn.metrics import roc_curve, auc"
   ]
  },
  {
   "cell_type": "code",
   "execution_count": 2,
   "metadata": {},
   "outputs": [
    {
     "data": {
      "text/html": [
       "<div>\n",
       "<style scoped>\n",
       "    .dataframe tbody tr th:only-of-type {\n",
       "        vertical-align: middle;\n",
       "    }\n",
       "\n",
       "    .dataframe tbody tr th {\n",
       "        vertical-align: top;\n",
       "    }\n",
       "\n",
       "    .dataframe thead th {\n",
       "        text-align: right;\n",
       "    }\n",
       "</style>\n",
       "<table border=\"1\" class=\"dataframe\">\n",
       "  <thead>\n",
       "    <tr style=\"text-align: right;\">\n",
       "      <th></th>\n",
       "      <th>Unique_ID</th>\n",
       "      <th>C1</th>\n",
       "      <th>C2</th>\n",
       "      <th>C3</th>\n",
       "      <th>C4</th>\n",
       "      <th>C5</th>\n",
       "      <th>C6</th>\n",
       "      <th>C7</th>\n",
       "      <th>C8</th>\n",
       "      <th>N1</th>\n",
       "      <th>...</th>\n",
       "      <th>N19</th>\n",
       "      <th>N20</th>\n",
       "      <th>N21</th>\n",
       "      <th>N22</th>\n",
       "      <th>N23</th>\n",
       "      <th>N24</th>\n",
       "      <th>N33</th>\n",
       "      <th>N34</th>\n",
       "      <th>N35</th>\n",
       "      <th>Dependent_Variable</th>\n",
       "    </tr>\n",
       "  </thead>\n",
       "  <tbody>\n",
       "    <tr>\n",
       "      <th>0</th>\n",
       "      <td>Candidate_48134</td>\n",
       "      <td>1</td>\n",
       "      <td>4</td>\n",
       "      <td>2</td>\n",
       "      <td>66</td>\n",
       "      <td>2</td>\n",
       "      <td>False</td>\n",
       "      <td>1</td>\n",
       "      <td>True</td>\n",
       "      <td>11.05</td>\n",
       "      <td>...</td>\n",
       "      <td>25856.0</td>\n",
       "      <td>17.0</td>\n",
       "      <td>0.88</td>\n",
       "      <td>1.0</td>\n",
       "      <td>40.0</td>\n",
       "      <td>10833.333330</td>\n",
       "      <td>160.0</td>\n",
       "      <td>262.10</td>\n",
       "      <td>17.0</td>\n",
       "      <td>0</td>\n",
       "    </tr>\n",
       "    <tr>\n",
       "      <th>1</th>\n",
       "      <td>Candidate_51717</td>\n",
       "      <td>1</td>\n",
       "      <td>0</td>\n",
       "      <td>19</td>\n",
       "      <td>2</td>\n",
       "      <td>0</td>\n",
       "      <td>False</td>\n",
       "      <td>0</td>\n",
       "      <td>True</td>\n",
       "      <td>29.00</td>\n",
       "      <td>...</td>\n",
       "      <td>11041.3</td>\n",
       "      <td>21.8</td>\n",
       "      <td>0.90</td>\n",
       "      <td>0.9</td>\n",
       "      <td>20.0</td>\n",
       "      <td>6250.000000</td>\n",
       "      <td>24.0</td>\n",
       "      <td>50.29</td>\n",
       "      <td>18.0</td>\n",
       "      <td>1</td>\n",
       "    </tr>\n",
       "    <tr>\n",
       "      <th>2</th>\n",
       "      <td>Candidate_26401</td>\n",
       "      <td>1</td>\n",
       "      <td>1</td>\n",
       "      <td>16</td>\n",
       "      <td>47</td>\n",
       "      <td>1</td>\n",
       "      <td>False</td>\n",
       "      <td>4</td>\n",
       "      <td>True</td>\n",
       "      <td>17.99</td>\n",
       "      <td>...</td>\n",
       "      <td>1006.0</td>\n",
       "      <td>6.0</td>\n",
       "      <td>1.00</td>\n",
       "      <td>0.0</td>\n",
       "      <td>26.0</td>\n",
       "      <td>2413.666667</td>\n",
       "      <td>70.0</td>\n",
       "      <td>126.52</td>\n",
       "      <td>27.0</td>\n",
       "      <td>0</td>\n",
       "    </tr>\n",
       "    <tr>\n",
       "      <th>3</th>\n",
       "      <td>Candidate_34872</td>\n",
       "      <td>1</td>\n",
       "      <td>1</td>\n",
       "      <td>13</td>\n",
       "      <td>1</td>\n",
       "      <td>1</td>\n",
       "      <td>True</td>\n",
       "      <td>6</td>\n",
       "      <td>True</td>\n",
       "      <td>27.50</td>\n",
       "      <td>...</td>\n",
       "      <td>3398.0</td>\n",
       "      <td>31.0</td>\n",
       "      <td>0.96</td>\n",
       "      <td>0.0</td>\n",
       "      <td>44.0</td>\n",
       "      <td>7666.666667</td>\n",
       "      <td>100.0</td>\n",
       "      <td>205.47</td>\n",
       "      <td>21.0</td>\n",
       "      <td>0</td>\n",
       "    </tr>\n",
       "    <tr>\n",
       "      <th>4</th>\n",
       "      <td>Candidate_29660</td>\n",
       "      <td>1</td>\n",
       "      <td>0</td>\n",
       "      <td>30</td>\n",
       "      <td>13</td>\n",
       "      <td>2</td>\n",
       "      <td>False</td>\n",
       "      <td>2</td>\n",
       "      <td>True</td>\n",
       "      <td>13.50</td>\n",
       "      <td>...</td>\n",
       "      <td>4110.0</td>\n",
       "      <td>11.0</td>\n",
       "      <td>0.90</td>\n",
       "      <td>2.0</td>\n",
       "      <td>48.0</td>\n",
       "      <td>4250.000000</td>\n",
       "      <td>150.0</td>\n",
       "      <td>254.51</td>\n",
       "      <td>13.0</td>\n",
       "      <td>0</td>\n",
       "    </tr>\n",
       "  </tbody>\n",
       "</table>\n",
       "<p>5 rows × 37 columns</p>\n",
       "</div>"
      ],
      "text/plain": [
       "         Unique_ID  C1  C2  C3  C4  C5     C6  C7    C8     N1  ...      N19  \\\n",
       "0  Candidate_48134   1   4   2  66   2  False   1  True  11.05  ...  25856.0   \n",
       "1  Candidate_51717   1   0  19   2   0  False   0  True  29.00  ...  11041.3   \n",
       "2  Candidate_26401   1   1  16  47   1  False   4  True  17.99  ...   1006.0   \n",
       "3  Candidate_34872   1   1  13   1   1   True   6  True  27.50  ...   3398.0   \n",
       "4  Candidate_29660   1   0  30  13   2  False   2  True  13.50  ...   4110.0   \n",
       "\n",
       "    N20   N21  N22   N23           N24    N33     N34   N35  \\\n",
       "0  17.0  0.88  1.0  40.0  10833.333330  160.0  262.10  17.0   \n",
       "1  21.8  0.90  0.9  20.0   6250.000000   24.0   50.29  18.0   \n",
       "2   6.0  1.00  0.0  26.0   2413.666667   70.0  126.52  27.0   \n",
       "3  31.0  0.96  0.0  44.0   7666.666667  100.0  205.47  21.0   \n",
       "4  11.0  0.90  2.0  48.0   4250.000000  150.0  254.51  13.0   \n",
       "\n",
       "   Dependent_Variable  \n",
       "0                   0  \n",
       "1                   1  \n",
       "2                   0  \n",
       "3                   0  \n",
       "4                   0  \n",
       "\n",
       "[5 rows x 37 columns]"
      ]
     },
     "execution_count": 2,
     "metadata": {},
     "output_type": "execute_result"
    }
   ],
   "source": [
    "df = pd.read_csv('preprocessed_data.csv')\n",
    "df.head()"
   ]
  },
  {
   "cell_type": "code",
   "execution_count": 3,
   "metadata": {},
   "outputs": [
    {
     "data": {
      "text/plain": [
       "(32276, 37)"
      ]
     },
     "execution_count": 3,
     "metadata": {},
     "output_type": "execute_result"
    }
   ],
   "source": [
    "df.shape"
   ]
  },
  {
   "cell_type": "code",
   "execution_count": 4,
   "metadata": {},
   "outputs": [],
   "source": [
    "X = df.drop(['Unique_ID', 'Dependent_Variable'], axis=1).copy()\n",
    "y = df['Dependent_Variable']"
   ]
  },
  {
   "cell_type": "code",
   "execution_count": 5,
   "metadata": {},
   "outputs": [],
   "source": [
    "X_train, X_test, y_train, y_test = train_test_split(X, y, test_size = 0.20, random_state = 0)"
   ]
  },
  {
   "cell_type": "code",
   "execution_count": 6,
   "metadata": {},
   "outputs": [
    {
     "name": "stdout",
     "output_type": "stream",
     "text": [
      "[0]\tvalidation_0-auc:0.70874\n",
      "[1]\tvalidation_0-auc:0.72035\n"
     ]
    },
    {
     "name": "stderr",
     "output_type": "stream",
     "text": [
      "C:\\Users\\Lenovo\\anaconda3\\envs\\monsoon\\lib\\site-packages\\xgboost\\sklearn.py:1224: UserWarning: The use of label encoder in XGBClassifier is deprecated and will be removed in a future release. To remove this warning, do the following: 1) Pass option use_label_encoder=False when constructing XGBClassifier object; and 2) Encode your labels (y) as integers starting with 0, i.e. 0, 1, 2, ..., [num_class - 1].\n",
      "  warnings.warn(label_encoder_deprecation_msg, UserWarning)\n",
      "C:\\Users\\Lenovo\\anaconda3\\envs\\monsoon\\lib\\site-packages\\xgboost\\data.py:262: FutureWarning: pandas.Int64Index is deprecated and will be removed from pandas in a future version. Use pandas.Index with the appropriate dtype instead.\n",
      "  elif isinstance(data.columns, (pd.Int64Index, pd.RangeIndex)):\n"
     ]
    },
    {
     "name": "stdout",
     "output_type": "stream",
     "text": [
      "[2]\tvalidation_0-auc:0.72988\n",
      "[3]\tvalidation_0-auc:0.73533\n",
      "[4]\tvalidation_0-auc:0.73850\n",
      "[5]\tvalidation_0-auc:0.74153\n",
      "[6]\tvalidation_0-auc:0.74315\n",
      "[7]\tvalidation_0-auc:0.74604\n",
      "[8]\tvalidation_0-auc:0.74794\n",
      "[9]\tvalidation_0-auc:0.75091\n",
      "[10]\tvalidation_0-auc:0.75158\n",
      "[11]\tvalidation_0-auc:0.75241\n",
      "[12]\tvalidation_0-auc:0.75309\n",
      "[13]\tvalidation_0-auc:0.75458\n",
      "[14]\tvalidation_0-auc:0.75585\n",
      "[15]\tvalidation_0-auc:0.75684\n",
      "[16]\tvalidation_0-auc:0.75636\n",
      "[17]\tvalidation_0-auc:0.75657\n",
      "[18]\tvalidation_0-auc:0.75685\n",
      "[19]\tvalidation_0-auc:0.75665\n",
      "[20]\tvalidation_0-auc:0.75674\n",
      "[21]\tvalidation_0-auc:0.75672\n",
      "[22]\tvalidation_0-auc:0.75748\n",
      "[23]\tvalidation_0-auc:0.75808\n",
      "[24]\tvalidation_0-auc:0.75798\n",
      "[25]\tvalidation_0-auc:0.75795\n",
      "[26]\tvalidation_0-auc:0.75836\n",
      "[27]\tvalidation_0-auc:0.75862\n",
      "[28]\tvalidation_0-auc:0.75871\n",
      "[29]\tvalidation_0-auc:0.75995\n",
      "[30]\tvalidation_0-auc:0.76058\n",
      "[31]\tvalidation_0-auc:0.76076\n",
      "[32]\tvalidation_0-auc:0.76133\n",
      "[33]\tvalidation_0-auc:0.76182\n",
      "[34]\tvalidation_0-auc:0.76177\n",
      "[35]\tvalidation_0-auc:0.76176\n",
      "[36]\tvalidation_0-auc:0.76046\n",
      "[37]\tvalidation_0-auc:0.75970\n",
      "[38]\tvalidation_0-auc:0.75981\n",
      "[39]\tvalidation_0-auc:0.75989\n",
      "[40]\tvalidation_0-auc:0.75959\n",
      "[41]\tvalidation_0-auc:0.76024\n",
      "[42]\tvalidation_0-auc:0.76016\n"
     ]
    },
    {
     "data": {
      "text/plain": [
       "XGBClassifier(base_score=0.5, booster='gbtree', colsample_bylevel=1,\n",
       "              colsample_bynode=1, colsample_bytree=1, enable_categorical=False,\n",
       "              gamma=0, gpu_id=-1, importance_type=None,\n",
       "              interaction_constraints='', learning_rate=0.300000012,\n",
       "              max_delta_step=0, max_depth=6, min_child_weight=1, missing=None,\n",
       "              monotone_constraints='()', n_estimators=100, n_jobs=8,\n",
       "              num_parallel_tree=1, predictor='auto', random_state=42,\n",
       "              reg_alpha=0, reg_lambda=1, scale_pos_weight=1, seed=42,\n",
       "              subsample=1, tree_method='exact', validate_parameters=1,\n",
       "              verbosity=None)"
      ]
     },
     "execution_count": 6,
     "metadata": {},
     "output_type": "execute_result"
    }
   ],
   "source": [
    "clf = xgb.XGBClassifier(objective='binary:logistic', missing=None, seed=42)\n",
    "clf.fit(X_train,\n",
    "        y_train,\n",
    "        verbose=True,\n",
    "        early_stopping_rounds=10,\n",
    "        eval_metric='auc',\n",
    "        eval_set=[(X_test, y_test)])"
   ]
  },
  {
   "cell_type": "markdown",
   "metadata": {},
   "source": [
    "## Optimizing parameters using Cross Validation and Grid Search()"
   ]
  },
  {
   "cell_type": "code",
   "execution_count": 7,
   "metadata": {},
   "outputs": [],
   "source": [
    "# Round 1 of GridSearchCV()\n",
    "\n",
    "param_grid = {\n",
    "    'max_depth' : [6, 7, 8],\n",
    "    'learning_rate' : [0.1, 0.01, 0.05],\n",
    "    'gamma' : [0, 0.25, 1],\n",
    "    'reg_lamda' : [0, 1.0, 10.0],\n",
    "    'scale_pos_weight' : [1, 3, 5]\n",
    "}"
   ]
  },
  {
   "cell_type": "code",
   "execution_count": 8,
   "metadata": {},
   "outputs": [],
   "source": [
    "optimal_params = GridSearchCV(\n",
    "    estimator=xgb.XGBClassifier(objective='binary:logistic',\n",
    "                                seed=42,\n",
    "                                subsample=0.9,\n",
    "                                colsample_bytree=0.5),\n",
    "    param_grid=param_grid,\n",
    "    scoring='roc_auc',\n",
    "    verbose=10,\n",
    "    n_jobs=-1,\n",
    "    cv=3\n",
    ")"
   ]
  },
  {
   "cell_type": "code",
   "execution_count": 9,
   "metadata": {},
   "outputs": [],
   "source": [
    "optimal_params.fit(X_train,\n",
    "                   y_train,\n",
    "                   early_stopping_rounds=10,\n",
    "                   eval_metric='auc',\n",
    "                   eval_set=[(X_test, y_test)],\n",
    "                   verbose=False)"
   ]
  },
  {
   "cell_type": "code",
   "execution_count": 11,
   "metadata": {},
   "outputs": [],
   "source": [
    "print(optimal_params.best_params_)"
   ]
  },
  {
   "cell_type": "code",
   "execution_count": 12,
   "metadata": {},
   "outputs": [],
   "source": [
    "# Round 2 of GridSearchCV()\n",
    "\n",
    "param_grid = {\n",
    "    'max_depth' : [8, 9, 10],\n",
    "    'learning_rate' : [0.05, 0.1, 0.5],\n",
    "    'gamma' : [1, 1.5, 2],\n",
    "    'reg_lamda' : [0],\n",
    "    'scale_pos_weight' : [1]\n",
    "}"
   ]
  },
  {
   "cell_type": "code",
   "execution_count": 13,
   "metadata": {},
   "outputs": [],
   "source": [
    "optimal_params = GridSearchCV(\n",
    "    estimator=xgb.XGBClassifier(objective='binary:logistic',\n",
    "                                seed=42,\n",
    "                                subsample=0.9,\n",
    "                                colsample_bytree=0.5),\n",
    "    param_grid=param_grid,\n",
    "    scoring='roc_auc',\n",
    "    verbose=10,\n",
    "    n_jobs=-1,\n",
    "    cv=3\n",
    ")"
   ]
  },
  {
   "cell_type": "code",
   "execution_count": 14,
   "metadata": {},
   "outputs": [
    {
     "name": "stdout",
     "output_type": "stream",
     "text": [
      "Fitting 3 folds for each of 27 candidates, totalling 81 fits\n"
     ]
    },
    {
     "name": "stderr",
     "output_type": "stream",
     "text": [
      "[Parallel(n_jobs=-1)]: Using backend LokyBackend with 8 concurrent workers.\n",
      "[Parallel(n_jobs=-1)]: Done   2 tasks      | elapsed:    8.2s\n",
      "[Parallel(n_jobs=-1)]: Done   9 tasks      | elapsed:   13.0s\n",
      "[Parallel(n_jobs=-1)]: Done  16 tasks      | elapsed:   16.9s\n",
      "[Parallel(n_jobs=-1)]: Done  25 tasks      | elapsed:   20.5s\n",
      "[Parallel(n_jobs=-1)]: Done  34 tasks      | elapsed:   29.8s\n",
      "[Parallel(n_jobs=-1)]: Done  45 tasks      | elapsed:   37.0s\n",
      "[Parallel(n_jobs=-1)]: Done  56 tasks      | elapsed:   45.4s\n",
      "[Parallel(n_jobs=-1)]: Done  75 out of  81 | elapsed:   58.1s remaining:    4.6s\n",
      "[Parallel(n_jobs=-1)]: Done  81 out of  81 | elapsed:   60.0s finished\n",
      "C:\\Users\\Lenovo\\anaconda3\\envs\\monsoon\\lib\\site-packages\\xgboost\\sklearn.py:1224: UserWarning: The use of label encoder in XGBClassifier is deprecated and will be removed in a future release. To remove this warning, do the following: 1) Pass option use_label_encoder=False when constructing XGBClassifier object; and 2) Encode your labels (y) as integers starting with 0, i.e. 0, 1, 2, ..., [num_class - 1].\n",
      "  warnings.warn(label_encoder_deprecation_msg, UserWarning)\n",
      "C:\\Users\\Lenovo\\anaconda3\\envs\\monsoon\\lib\\site-packages\\xgboost\\data.py:262: FutureWarning: pandas.Int64Index is deprecated and will be removed from pandas in a future version. Use pandas.Index with the appropriate dtype instead.\n",
      "  elif isinstance(data.columns, (pd.Int64Index, pd.RangeIndex)):\n"
     ]
    },
    {
     "name": "stdout",
     "output_type": "stream",
     "text": [
      "[07:22:45] WARNING: D:\\bld\\xgboost-split_1645118015404\\work\\src\\learner.cc:576: \n",
      "Parameters: { \"reg_lamda\" } might not be used.\n",
      "\n",
      "  This could be a false alarm, with some parameters getting used by language bindings but\n",
      "  then being mistakenly passed down to XGBoost core, or some parameter actually being used\n",
      "  but getting flagged wrongly here. Please open an issue if you find any such cases.\n",
      "\n",
      "\n"
     ]
    },
    {
     "data": {
      "text/plain": [
       "GridSearchCV(cv=3,\n",
       "             estimator=XGBClassifier(base_score=None, booster=None,\n",
       "                                     colsample_bylevel=None,\n",
       "                                     colsample_bynode=None,\n",
       "                                     colsample_bytree=0.5,\n",
       "                                     enable_categorical=False, gamma=None,\n",
       "                                     gpu_id=None, importance_type=None,\n",
       "                                     interaction_constraints=None,\n",
       "                                     learning_rate=None, max_delta_step=None,\n",
       "                                     max_depth=None, min_child_weight=None,\n",
       "                                     missing=nan, monotone_constraints=None,\n",
       "                                     n...\n",
       "                                     num_parallel_tree=None, predictor=None,\n",
       "                                     random_state=None, reg_alpha=None,\n",
       "                                     reg_lambda=None, scale_pos_weight=None,\n",
       "                                     seed=42, subsample=0.9, tree_method=None,\n",
       "                                     validate_parameters=None, verbosity=None),\n",
       "             n_jobs=-1,\n",
       "             param_grid={'gamma': [1, 1.5, 2],\n",
       "                         'learning_rate': [0.05, 0.1, 0.5],\n",
       "                         'max_depth': [8, 9, 10], 'reg_lamda': [0],\n",
       "                         'scale_pos_weight': [1]},\n",
       "             scoring='roc_auc', verbose=10)"
      ]
     },
     "execution_count": 14,
     "metadata": {},
     "output_type": "execute_result"
    }
   ],
   "source": [
    "optimal_params.fit(X_train,\n",
    "                   y_train,\n",
    "                   early_stopping_rounds=10,\n",
    "                   eval_metric='auc',\n",
    "                   eval_set=[(X_test, y_test)],\n",
    "                   verbose=False)"
   ]
  },
  {
   "cell_type": "code",
   "execution_count": 15,
   "metadata": {},
   "outputs": [
    {
     "name": "stdout",
     "output_type": "stream",
     "text": [
      "{'gamma': 1, 'learning_rate': 0.05, 'max_depth': 8, 'reg_lamda': 0, 'scale_pos_weight': 1}\n"
     ]
    }
   ],
   "source": [
    "print(optimal_params.best_params_)"
   ]
  },
  {
   "cell_type": "code",
   "execution_count": 12,
   "metadata": {},
   "outputs": [],
   "source": [
    "# The best parameters stay the same so I take the parameters and build the final XGBoost Classifier\n",
    "\n",
    "clf2 = xgb.XGBClassifier(seed=42,\n",
    "                        objective='binary:logistic',\n",
    "                        gamma=1,\n",
    "                        learn_rate=0.05,\n",
    "                        max_depth=8,\n",
    "                        reg_lambda=0,\n",
    "                        scale_pos_weight=1,\n",
    "                        subsample=0.9,\n",
    "                        colsample_bytree=0.5)"
   ]
  },
  {
   "cell_type": "code",
   "execution_count": 13,
   "metadata": {},
   "outputs": [
    {
     "name": "stdout",
     "output_type": "stream",
     "text": [
      "[08:06:14] WARNING: D:\\bld\\xgboost-split_1645118015404\\work\\src\\learner.cc:576: \n",
      "Parameters: { \"learn_rate\" } might not be used.\n",
      "\n",
      "  This could be a false alarm, with some parameters getting used by language bindings but\n",
      "  then being mistakenly passed down to XGBoost core, or some parameter actually being used\n",
      "  but getting flagged wrongly here. Please open an issue if you find any such cases.\n",
      "\n",
      "\n",
      "[0]\tvalidation_0-auc:0.68126\n",
      "[1]\tvalidation_0-auc:0.71234\n",
      "[2]\tvalidation_0-auc:0.71990\n",
      "[3]\tvalidation_0-auc:0.72898\n",
      "[4]\tvalidation_0-auc:0.73674\n",
      "[5]\tvalidation_0-auc:0.73724\n",
      "[6]\tvalidation_0-auc:0.73929\n",
      "[7]\tvalidation_0-auc:0.74313\n",
      "[8]\tvalidation_0-auc:0.74541\n",
      "[9]\tvalidation_0-auc:0.74831\n",
      "[10]\tvalidation_0-auc:0.74762\n",
      "[11]\tvalidation_0-auc:0.74866\n",
      "[12]\tvalidation_0-auc:0.74846\n",
      "[13]\tvalidation_0-auc:0.75013\n",
      "[14]\tvalidation_0-auc:0.75048\n",
      "[15]\tvalidation_0-auc:0.75202\n",
      "[16]\tvalidation_0-auc:0.75160\n",
      "[17]\tvalidation_0-auc:0.75111\n",
      "[18]\tvalidation_0-auc:0.75182\n",
      "[19]\tvalidation_0-auc:0.75220\n",
      "[20]\tvalidation_0-auc:0.75006\n",
      "[21]\tvalidation_0-auc:0.75019\n",
      "[22]\tvalidation_0-auc:0.75063\n",
      "[23]\tvalidation_0-auc:0.75177\n",
      "[24]\tvalidation_0-auc:0.75200\n",
      "[25]\tvalidation_0-auc:0.75271\n",
      "[26]\tvalidation_0-auc:0.75313\n",
      "[27]\tvalidation_0-auc:0.75284\n",
      "[28]\tvalidation_0-auc:0.75211\n",
      "[29]\tvalidation_0-auc:0.75167\n",
      "[30]\tvalidation_0-auc:0.75179\n",
      "[31]\tvalidation_0-auc:0.75154\n",
      "[32]\tvalidation_0-auc:0.75080\n",
      "[33]\tvalidation_0-auc:0.75060\n",
      "[34]\tvalidation_0-auc:0.75097\n",
      "[35]\tvalidation_0-auc:0.75113\n",
      "[36]\tvalidation_0-auc:0.75055\n"
     ]
    },
    {
     "data": {
      "text/plain": [
       "XGBClassifier(base_score=0.5, booster='gbtree', colsample_bylevel=1,\n",
       "              colsample_bynode=1, colsample_bytree=0.5,\n",
       "              enable_categorical=False, gamma=1, gpu_id=-1,\n",
       "              importance_type=None, interaction_constraints='', learn_rate=0.05,\n",
       "              learning_rate=0.300000012, max_delta_step=0, max_depth=8,\n",
       "              min_child_weight=1, missing=nan, monotone_constraints='()',\n",
       "              n_estimators=100, n_jobs=8, num_parallel_tree=1, predictor='auto',\n",
       "              random_state=42, reg_alpha=0, reg_lambda=0, scale_pos_weight=1,\n",
       "              seed=42, subsample=0.9, tree_method='exact',\n",
       "              validate_parameters=1, verbosity=None)"
      ]
     },
     "execution_count": 13,
     "metadata": {},
     "output_type": "execute_result"
    }
   ],
   "source": [
    "clf2.fit(X_train,\n",
    "        y_train,\n",
    "        verbose=True,\n",
    "        early_stopping_rounds=10,\n",
    "        eval_metric='auc',\n",
    "        eval_set=[(X_test, y_test)])"
   ]
  },
  {
   "cell_type": "code",
   "execution_count": 14,
   "metadata": {},
   "outputs": [
    {
     "data": {
      "text/plain": [
       "array([0, 0, 1, ..., 0, 0, 0], dtype=int64)"
      ]
     },
     "execution_count": 14,
     "metadata": {},
     "output_type": "execute_result"
    }
   ],
   "source": [
    "y_pred = clf2.predict(X_test)\n",
    "y_pred"
   ]
  },
  {
   "cell_type": "code",
   "execution_count": 15,
   "metadata": {},
   "outputs": [
    {
     "name": "stdout",
     "output_type": "stream",
     "text": [
      "AUC-ROC = 0.6458516836812946\n"
     ]
    }
   ],
   "source": [
    "fpr, tpr, thresholds = roc_curve(y_test, y_pred, pos_label=1)\n",
    "auc_score = auc(fpr, tpr)\n",
    "print(f'AUC-ROC = {auc_score}')"
   ]
  },
  {
   "cell_type": "markdown",
   "metadata": {},
   "source": [
    "## Predicting on provided test data "
   ]
  },
  {
   "cell_type": "code",
   "execution_count": 16,
   "metadata": {},
   "outputs": [
    {
     "data": {
      "text/html": [
       "<div>\n",
       "<style scoped>\n",
       "    .dataframe tbody tr th:only-of-type {\n",
       "        vertical-align: middle;\n",
       "    }\n",
       "\n",
       "    .dataframe tbody tr th {\n",
       "        vertical-align: top;\n",
       "    }\n",
       "\n",
       "    .dataframe thead th {\n",
       "        text-align: right;\n",
       "    }\n",
       "</style>\n",
       "<table border=\"1\" class=\"dataframe\">\n",
       "  <thead>\n",
       "    <tr style=\"text-align: right;\">\n",
       "      <th></th>\n",
       "      <th>Unique_ID</th>\n",
       "      <th>C1</th>\n",
       "      <th>C2</th>\n",
       "      <th>C3</th>\n",
       "      <th>C4</th>\n",
       "      <th>C5</th>\n",
       "      <th>C6</th>\n",
       "      <th>C7</th>\n",
       "      <th>C8</th>\n",
       "      <th>N1</th>\n",
       "      <th>...</th>\n",
       "      <th>N18</th>\n",
       "      <th>N19</th>\n",
       "      <th>N20</th>\n",
       "      <th>N21</th>\n",
       "      <th>N22</th>\n",
       "      <th>N23</th>\n",
       "      <th>N24</th>\n",
       "      <th>N33</th>\n",
       "      <th>N34</th>\n",
       "      <th>N35</th>\n",
       "    </tr>\n",
       "  </thead>\n",
       "  <tbody>\n",
       "    <tr>\n",
       "      <th>0</th>\n",
       "      <td>Candidate_1602</td>\n",
       "      <td>1</td>\n",
       "      <td>0</td>\n",
       "      <td>0</td>\n",
       "      <td>23</td>\n",
       "      <td>0</td>\n",
       "      <td>True</td>\n",
       "      <td>0</td>\n",
       "      <td>True</td>\n",
       "      <td>18.00</td>\n",
       "      <td>...</td>\n",
       "      <td>0.50</td>\n",
       "      <td>10639.6</td>\n",
       "      <td>21.8</td>\n",
       "      <td>0.90</td>\n",
       "      <td>0.9</td>\n",
       "      <td>66.0</td>\n",
       "      <td>3333.333333</td>\n",
       "      <td>50.0</td>\n",
       "      <td>90.38</td>\n",
       "      <td>23.0</td>\n",
       "    </tr>\n",
       "    <tr>\n",
       "      <th>1</th>\n",
       "      <td>Candidate_29650</td>\n",
       "      <td>1</td>\n",
       "      <td>0</td>\n",
       "      <td>2</td>\n",
       "      <td>4</td>\n",
       "      <td>2</td>\n",
       "      <td>True</td>\n",
       "      <td>2</td>\n",
       "      <td>True</td>\n",
       "      <td>16.75</td>\n",
       "      <td>...</td>\n",
       "      <td>0.83</td>\n",
       "      <td>12165.0</td>\n",
       "      <td>19.0</td>\n",
       "      <td>0.94</td>\n",
       "      <td>2.0</td>\n",
       "      <td>36.0</td>\n",
       "      <td>5779.833333</td>\n",
       "      <td>300.0</td>\n",
       "      <td>532.93</td>\n",
       "      <td>16.0</td>\n",
       "    </tr>\n",
       "    <tr>\n",
       "      <th>2</th>\n",
       "      <td>Candidate_31061</td>\n",
       "      <td>1</td>\n",
       "      <td>2</td>\n",
       "      <td>3</td>\n",
       "      <td>38</td>\n",
       "      <td>1</td>\n",
       "      <td>False</td>\n",
       "      <td>4</td>\n",
       "      <td>True</td>\n",
       "      <td>29.99</td>\n",
       "      <td>...</td>\n",
       "      <td>0.79</td>\n",
       "      <td>504.0</td>\n",
       "      <td>34.0</td>\n",
       "      <td>0.70</td>\n",
       "      <td>2.0</td>\n",
       "      <td>48.0</td>\n",
       "      <td>3083.333333</td>\n",
       "      <td>80.0</td>\n",
       "      <td>169.78</td>\n",
       "      <td>22.0</td>\n",
       "    </tr>\n",
       "    <tr>\n",
       "      <th>3</th>\n",
       "      <td>Candidate_5768</td>\n",
       "      <td>1</td>\n",
       "      <td>1</td>\n",
       "      <td>28</td>\n",
       "      <td>20</td>\n",
       "      <td>2</td>\n",
       "      <td>False</td>\n",
       "      <td>2</td>\n",
       "      <td>True</td>\n",
       "      <td>17.70</td>\n",
       "      <td>...</td>\n",
       "      <td>0.84</td>\n",
       "      <td>1428.0</td>\n",
       "      <td>9.0</td>\n",
       "      <td>0.77</td>\n",
       "      <td>0.0</td>\n",
       "      <td>36.0</td>\n",
       "      <td>5117.083333</td>\n",
       "      <td>150.0</td>\n",
       "      <td>270.02</td>\n",
       "      <td>13.0</td>\n",
       "    </tr>\n",
       "    <tr>\n",
       "      <th>4</th>\n",
       "      <td>Candidate_27059</td>\n",
       "      <td>1</td>\n",
       "      <td>1</td>\n",
       "      <td>15</td>\n",
       "      <td>1</td>\n",
       "      <td>3</td>\n",
       "      <td>False</td>\n",
       "      <td>5</td>\n",
       "      <td>False</td>\n",
       "      <td>28.00</td>\n",
       "      <td>...</td>\n",
       "      <td>0.64</td>\n",
       "      <td>6324.0</td>\n",
       "      <td>25.0</td>\n",
       "      <td>0.92</td>\n",
       "      <td>2.0</td>\n",
       "      <td>57.7</td>\n",
       "      <td>0.000000</td>\n",
       "      <td>50.0</td>\n",
       "      <td>103.41</td>\n",
       "      <td>14.0</td>\n",
       "    </tr>\n",
       "  </tbody>\n",
       "</table>\n",
       "<p>5 rows × 36 columns</p>\n",
       "</div>"
      ],
      "text/plain": [
       "         Unique_ID  C1  C2  C3  C4  C5     C6  C7     C8     N1  ...   N18  \\\n",
       "0   Candidate_1602   1   0   0  23   0   True   0   True  18.00  ...  0.50   \n",
       "1  Candidate_29650   1   0   2   4   2   True   2   True  16.75  ...  0.83   \n",
       "2  Candidate_31061   1   2   3  38   1  False   4   True  29.99  ...  0.79   \n",
       "3   Candidate_5768   1   1  28  20   2  False   2   True  17.70  ...  0.84   \n",
       "4  Candidate_27059   1   1  15   1   3  False   5  False  28.00  ...  0.64   \n",
       "\n",
       "       N19   N20   N21  N22   N23          N24    N33     N34   N35  \n",
       "0  10639.6  21.8  0.90  0.9  66.0  3333.333333   50.0   90.38  23.0  \n",
       "1  12165.0  19.0  0.94  2.0  36.0  5779.833333  300.0  532.93  16.0  \n",
       "2    504.0  34.0  0.70  2.0  48.0  3083.333333   80.0  169.78  22.0  \n",
       "3   1428.0   9.0  0.77  0.0  36.0  5117.083333  150.0  270.02  13.0  \n",
       "4   6324.0  25.0  0.92  2.0  57.7     0.000000   50.0  103.41  14.0  \n",
       "\n",
       "[5 rows x 36 columns]"
      ]
     },
     "execution_count": 16,
     "metadata": {},
     "output_type": "execute_result"
    }
   ],
   "source": [
    "test_df = pd.read_csv('preprocessed_test_data.csv')\n",
    "test_df.head()"
   ]
  },
  {
   "cell_type": "code",
   "execution_count": 18,
   "metadata": {},
   "outputs": [],
   "source": [
    "x_test_provided = test_df.drop(['Unique_ID'], axis=1).copy()"
   ]
  },
  {
   "cell_type": "code",
   "execution_count": 19,
   "metadata": {},
   "outputs": [
    {
     "name": "stderr",
     "output_type": "stream",
     "text": [
      "C:\\Users\\Lenovo\\anaconda3\\envs\\monsoon\\lib\\site-packages\\xgboost\\data.py:262: FutureWarning: pandas.Int64Index is deprecated and will be removed from pandas in a future version. Use pandas.Index with the appropriate dtype instead.\n",
      "  elif isinstance(data.columns, (pd.Int64Index, pd.RangeIndex)):\n"
     ]
    },
    {
     "data": {
      "text/plain": [
       "array([[0.7141714 , 0.28582856],\n",
       "       [0.7576543 , 0.24234566],\n",
       "       [0.8013055 , 0.19869453],\n",
       "       ...,\n",
       "       [0.65986574, 0.3401343 ],\n",
       "       [0.8494964 , 0.15050356],\n",
       "       [0.9186997 , 0.08130033]], dtype=float32)"
      ]
     },
     "execution_count": 19,
     "metadata": {},
     "output_type": "execute_result"
    }
   ],
   "source": [
    "test_pred = clf2.predict_proba(x_test_provided)\n",
    "test_pred"
   ]
  },
  {
   "cell_type": "code",
   "execution_count": 20,
   "metadata": {},
   "outputs": [],
   "source": [
    "pred_prob = []\n",
    "for i in test_pred:\n",
    "    pred_prob.append(i[1])"
   ]
  },
  {
   "cell_type": "code",
   "execution_count": 21,
   "metadata": {},
   "outputs": [
    {
     "data": {
      "text/html": [
       "<div>\n",
       "<style scoped>\n",
       "    .dataframe tbody tr th:only-of-type {\n",
       "        vertical-align: middle;\n",
       "    }\n",
       "\n",
       "    .dataframe tbody tr th {\n",
       "        vertical-align: top;\n",
       "    }\n",
       "\n",
       "    .dataframe thead th {\n",
       "        text-align: right;\n",
       "    }\n",
       "</style>\n",
       "<table border=\"1\" class=\"dataframe\">\n",
       "  <thead>\n",
       "    <tr style=\"text-align: right;\">\n",
       "      <th></th>\n",
       "      <th>Unique_ID</th>\n",
       "      <th>Class_1_Probability</th>\n",
       "    </tr>\n",
       "  </thead>\n",
       "  <tbody>\n",
       "    <tr>\n",
       "      <th>0</th>\n",
       "      <td>Candidate_1602</td>\n",
       "      <td>0.285829</td>\n",
       "    </tr>\n",
       "    <tr>\n",
       "      <th>1</th>\n",
       "      <td>Candidate_29650</td>\n",
       "      <td>0.242346</td>\n",
       "    </tr>\n",
       "    <tr>\n",
       "      <th>2</th>\n",
       "      <td>Candidate_31061</td>\n",
       "      <td>0.198695</td>\n",
       "    </tr>\n",
       "    <tr>\n",
       "      <th>3</th>\n",
       "      <td>Candidate_5768</td>\n",
       "      <td>0.283343</td>\n",
       "    </tr>\n",
       "    <tr>\n",
       "      <th>4</th>\n",
       "      <td>Candidate_27059</td>\n",
       "      <td>0.644169</td>\n",
       "    </tr>\n",
       "    <tr>\n",
       "      <th>...</th>\n",
       "      <td>...</td>\n",
       "      <td>...</td>\n",
       "    </tr>\n",
       "    <tr>\n",
       "      <th>11012</th>\n",
       "      <td>Candidate_7453</td>\n",
       "      <td>0.571200</td>\n",
       "    </tr>\n",
       "    <tr>\n",
       "      <th>11013</th>\n",
       "      <td>Candidate_38211</td>\n",
       "      <td>0.133411</td>\n",
       "    </tr>\n",
       "    <tr>\n",
       "      <th>11014</th>\n",
       "      <td>Candidate_25020</td>\n",
       "      <td>0.340134</td>\n",
       "    </tr>\n",
       "    <tr>\n",
       "      <th>11015</th>\n",
       "      <td>Candidate_44501</td>\n",
       "      <td>0.150504</td>\n",
       "    </tr>\n",
       "    <tr>\n",
       "      <th>11016</th>\n",
       "      <td>Candidate_49327</td>\n",
       "      <td>0.081300</td>\n",
       "    </tr>\n",
       "  </tbody>\n",
       "</table>\n",
       "<p>11017 rows × 2 columns</p>\n",
       "</div>"
      ],
      "text/plain": [
       "             Unique_ID  Class_1_Probability\n",
       "0       Candidate_1602             0.285829\n",
       "1      Candidate_29650             0.242346\n",
       "2      Candidate_31061             0.198695\n",
       "3       Candidate_5768             0.283343\n",
       "4      Candidate_27059             0.644169\n",
       "...                ...                  ...\n",
       "11012   Candidate_7453             0.571200\n",
       "11013  Candidate_38211             0.133411\n",
       "11014  Candidate_25020             0.340134\n",
       "11015  Candidate_44501             0.150504\n",
       "11016  Candidate_49327             0.081300\n",
       "\n",
       "[11017 rows x 2 columns]"
      ]
     },
     "execution_count": 21,
     "metadata": {},
     "output_type": "execute_result"
    }
   ],
   "source": [
    "data = {'Unique_ID': test_df['Unique_ID'], 'Class_1_Probability': pred_prob}\n",
    "submission = pd.DataFrame(data)\n",
    "submission"
   ]
  },
  {
   "cell_type": "code",
   "execution_count": 22,
   "metadata": {},
   "outputs": [],
   "source": [
    "submission.to_csv('Submission.csv', index=False)"
   ]
  },
  {
   "cell_type": "code",
   "execution_count": null,
   "metadata": {},
   "outputs": [],
   "source": []
  }
 ],
 "metadata": {
  "kernelspec": {
   "display_name": "Python 3",
   "language": "python",
   "name": "python3"
  },
  "language_info": {
   "codemirror_mode": {
    "name": "ipython",
    "version": 3
   },
   "file_extension": ".py",
   "mimetype": "text/x-python",
   "name": "python",
   "nbconvert_exporter": "python",
   "pygments_lexer": "ipython3",
   "version": "3.8.12"
  }
 },
 "nbformat": 4,
 "nbformat_minor": 4
}
